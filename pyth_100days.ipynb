{
  "nbformat": 4,
  "nbformat_minor": 0,
  "metadata": {
    "colab": {
      "provenance": [],
      "authorship_tag": "ABX9TyPrwL7aWq/2P6qPzcG5tQCP",
      "include_colab_link": true
    },
    "kernelspec": {
      "name": "python3",
      "display_name": "Python 3"
    },
    "language_info": {
      "name": "python"
    }
  },
  "cells": [
    {
      "cell_type": "markdown",
      "metadata": {
        "id": "view-in-github",
        "colab_type": "text"
      },
      "source": [
        "<a href=\"https://colab.research.google.com/github/imurtazahyder/Basic-Learning/blob/main/pyth_100days.ipynb\" target=\"_parent\"><img src=\"https://colab.research.google.com/assets/colab-badge.svg\" alt=\"Open In Colab\"/></a>"
      ]
    },
    {
      "cell_type": "code",
      "execution_count": null,
      "metadata": {
        "colab": {
          "base_uri": "https://localhost:8080/"
        },
        "id": "_GM7IdbuDfKX",
        "outputId": "671d14de-74a5-4128-bb37-2560e7c70569"
      },
      "outputs": [
        {
          "output_type": "stream",
          "name": "stdout",
          "text": [
            "welcome to Brand Name Generator\n",
            "What is your city name?\n",
            "Kuala Lumpur\n",
            "what is your pet name?\n",
            "Kitto\n",
            "you band name is Kuala Lumpur Kitto\n"
          ]
        }
      ],
      "source": [
        "#project 1: Brand Name Generator\n",
        "print(\"welcome to Brand Name Generator\")\n",
        "city = input(\"What is your city name?\\n\")\n",
        "pet = input(\"what is your pet name?\\n\")\n",
        "print (\"you band name is \" + city + \" \"+ pet)"
      ]
    },
    {
      "cell_type": "code",
      "source": [
        "#find the string location (string always comes between the \"-\")\n",
        "print(\"hello\"[4])\n",
        "print(\"Murtaza\"[4])"
      ],
      "metadata": {
        "id": "KQ6IyqOShuuY",
        "colab": {
          "base_uri": "https://localhost:8080/"
        },
        "outputId": "fa732479-29f1-4a3e-b1bd-d284017a70e0"
      },
      "execution_count": null,
      "outputs": [
        {
          "output_type": "stream",
          "name": "stdout",
          "text": [
            "o\n",
            "a\n"
          ]
        }
      ]
    },
    {
      "cell_type": "code",
      "source": [
        "#add the integers number without (\"\")\n",
        "print(123+456)\n",
        "print(0+15)\n",
        "print(2*10)\n",
        "\n",
        "#large numbers use (underscore _)\n",
        "print(123_456_789)\n",
        "\n",
        "#float data type\n",
        "print(3.15)\n",
        "\n",
        "#boolean data type\n",
        "print(True)\n",
        "print(False)"
      ],
      "metadata": {
        "colab": {
          "base_uri": "https://localhost:8080/"
        },
        "id": "i1lynrfeiRgG",
        "outputId": "30187814-ae0f-408b-d8c0-51dd0c8c0659"
      },
      "execution_count": null,
      "outputs": [
        {
          "output_type": "stream",
          "name": "stdout",
          "text": [
            "579\n",
            "15\n",
            "20\n",
            "123456789\n",
            "3.15\n",
            "True\n",
            "False\n"
          ]
        }
      ]
    },
    {
      "cell_type": "code",
      "source": [
        "#check the type of variable, function, data\n",
        "num_char = len(input(\"what is your name?\\n\"))\n",
        "print(type(num_char))\n",
        "\n",
        "#convert the integer into string type;\n",
        "new_num_char = str(num_char)\n",
        "print(type(new_num_char))\n",
        "print(\"your name has \" + new_num_char + \" characters.\")"
      ],
      "metadata": {
        "colab": {
          "base_uri": "https://localhost:8080/"
        },
        "id": "EeNEAe_OjJh2",
        "outputId": "43551c75-535c-4842-93fc-eb6cf735beb3"
      },
      "execution_count": null,
      "outputs": [
        {
          "output_type": "stream",
          "name": "stdout",
          "text": [
            "what is your name?\n",
            "Murtaza Magsi\n",
            "<class 'int'>\n",
            "<class 'str'>\n",
            "your name has 13 characters.\n"
          ]
        }
      ]
    },
    {
      "cell_type": "code",
      "source": [
        "#data type exerise\n",
        "two_digit_number = input(\"type a two digit number: \")\n",
        "a = int (two_digit_number[0])\n",
        "b = int (two_digit_number[1])\n",
        "print (a+b)"
      ],
      "metadata": {
        "colab": {
          "base_uri": "https://localhost:8080/"
        },
        "id": "kw3ZswB67enl",
        "outputId": "53b33869-e1fc-476c-9db0-5d27163cebb2"
      },
      "execution_count": null,
      "outputs": [
        {
          "output_type": "stream",
          "name": "stdout",
          "text": [
            "type a two digit number: 26\n",
            "8\n"
          ]
        }
      ]
    },
    {
      "cell_type": "code",
      "source": [],
      "metadata": {
        "id": "r7ODyUBX_hA0"
      },
      "execution_count": null,
      "outputs": []
    }
  ]
}