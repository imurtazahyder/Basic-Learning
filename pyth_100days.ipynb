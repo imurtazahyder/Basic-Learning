{
  "nbformat": 4,
  "nbformat_minor": 0,
  "metadata": {
    "colab": {
      "provenance": [],
      "authorship_tag": "ABX9TyPYTf9es8bpM9yXbrrzFpQ4",
      "include_colab_link": true
    },
    "kernelspec": {
      "name": "python3",
      "display_name": "Python 3"
    },
    "language_info": {
      "name": "python"
    }
  },
  "cells": [
    {
      "cell_type": "markdown",
      "metadata": {
        "id": "view-in-github",
        "colab_type": "text"
      },
      "source": [
        "<a href=\"https://colab.research.google.com/github/imurtazahyder/Basic-Learning/blob/main/pyth_100days.ipynb\" target=\"_parent\"><img src=\"https://colab.research.google.com/assets/colab-badge.svg\" alt=\"Open In Colab\"/></a>"
      ]
    },
    {
      "cell_type": "code",
      "execution_count": null,
      "metadata": {
        "colab": {
          "base_uri": "https://localhost:8080/"
        },
        "id": "_GM7IdbuDfKX",
        "outputId": "671d14de-74a5-4128-bb37-2560e7c70569"
      },
      "outputs": [
        {
          "output_type": "stream",
          "name": "stdout",
          "text": [
            "welcome to Brand Name Generator\n",
            "What is your city name?\n",
            "Kuala Lumpur\n",
            "what is your pet name?\n",
            "Kitto\n",
            "you band name is Kuala Lumpur Kitto\n"
          ]
        }
      ],
      "source": [
        "#project 1: Brand Name Generator\n",
        "print(\"welcome to Brand Name Generator\")\n",
        "city = input(\"What is your city name?\\n\")\n",
        "pet = input(\"what is your pet name?\\n\")\n",
        "print (\"you band name is \" + city + \" \"+ pet)"
      ]
    },
    {
      "cell_type": "code",
      "source": [
        "#find the string location (string always comes between the \"-\")\n",
        "print(\"hello\"[4])\n",
        "print(\"Murtaza\"[4])"
      ],
      "metadata": {
        "id": "KQ6IyqOShuuY",
        "colab": {
          "base_uri": "https://localhost:8080/"
        },
        "outputId": "fa732479-29f1-4a3e-b1bd-d284017a70e0"
      },
      "execution_count": null,
      "outputs": [
        {
          "output_type": "stream",
          "name": "stdout",
          "text": [
            "o\n",
            "a\n"
          ]
        }
      ]
    },
    {
      "cell_type": "code",
      "source": [
        "#add the integers number without (\"\")\n",
        "print(123+456)\n",
        "print(0+15)\n",
        "print(2*10)\n",
        "\n",
        "#large numbers use (underscore _)\n",
        "print(123_456_789)\n",
        "\n",
        "#float data type\n",
        "print(3.15)\n",
        "\n",
        "#boolean data type\n",
        "print(True)\n",
        "print(False)"
      ],
      "metadata": {
        "colab": {
          "base_uri": "https://localhost:8080/"
        },
        "id": "i1lynrfeiRgG",
        "outputId": "30187814-ae0f-408b-d8c0-51dd0c8c0659"
      },
      "execution_count": null,
      "outputs": [
        {
          "output_type": "stream",
          "name": "stdout",
          "text": [
            "579\n",
            "15\n",
            "20\n",
            "123456789\n",
            "3.15\n",
            "True\n",
            "False\n"
          ]
        }
      ]
    },
    {
      "cell_type": "code",
      "source": [
        "#check the type of variable, function, data\n",
        "num_char = len(input(\"what is your name?\\n\"))\n",
        "print(type(num_char))\n",
        "\n",
        "#convert the integer into string type;\n",
        "new_num_char = str(num_char)\n",
        "print(type(new_num_char))\n",
        "print(\"your name has \" + new_num_char + \" characters.\")"
      ],
      "metadata": {
        "colab": {
          "base_uri": "https://localhost:8080/"
        },
        "id": "EeNEAe_OjJh2",
        "outputId": "43551c75-535c-4842-93fc-eb6cf735beb3"
      },
      "execution_count": null,
      "outputs": [
        {
          "output_type": "stream",
          "name": "stdout",
          "text": [
            "what is your name?\n",
            "Murtaza Magsi\n",
            "<class 'int'>\n",
            "<class 'str'>\n",
            "your name has 13 characters.\n"
          ]
        }
      ]
    },
    {
      "cell_type": "code",
      "source": [
        "#data type exerise\n",
        "two_digit_number = input(\"type a two digit number: \")\n",
        "a = int (two_digit_number[0])\n",
        "b = int (two_digit_number[1])\n",
        "print (a+b)"
      ],
      "metadata": {
        "colab": {
          "base_uri": "https://localhost:8080/"
        },
        "id": "kw3ZswB67enl",
        "outputId": "53b33869-e1fc-476c-9db0-5d27163cebb2"
      },
      "execution_count": null,
      "outputs": [
        {
          "output_type": "stream",
          "name": "stdout",
          "text": [
            "type a two digit number: 26\n",
            "8\n"
          ]
        }
      ]
    },
    {
      "cell_type": "code",
      "source": [
        "#mathametical operations\n",
        "'''\n",
        "3+1\n",
        "2-1\n",
        "3*6\n",
        "6/3\n",
        "2**3 #(square root)\n",
        "\n",
        "#rule from school is PEMDAS\n",
        "Parentheses ()\n",
        "Exponents **\n",
        "Muliplication *\n",
        "Division /\n",
        "Addition +\n",
        "Subtraction -\n",
        "'''"
      ],
      "metadata": {
        "id": "r7ODyUBX_hA0",
        "colab": {
          "base_uri": "https://localhost:8080/",
          "height": 35
        },
        "outputId": "0a5d33a8-6926-49e9-af1b-d2a268e9ca40"
      },
      "execution_count": 1,
      "outputs": [
        {
          "output_type": "execute_result",
          "data": {
            "text/plain": [
              "'\\n3+1\\n2-1\\n3*6\\n6/3\\n2**3 #(square root)\\n\\n#rule from school is PEMDAS\\nParentheses ()\\nExponents **\\nMuliplication *\\nDivision /\\nAddition +\\nSubtraction - \\n'"
            ],
            "application/vnd.google.colaboratory.intrinsic+json": {
              "type": "string"
            }
          },
          "metadata": {},
          "execution_count": 1
        }
      ]
    },
    {
      "cell_type": "code",
      "source": [
        "#Body Mass Index (BMI)\n",
        "H = input (\"Enter your Height in m : \")\n",
        "W = input (\"enter your weight in KG: \")\n",
        "bmi = int (W)/float(H) ** 2\n",
        "new_bmi = int (bmi)\n",
        "print (new_bmi)"
      ],
      "metadata": {
        "colab": {
          "base_uri": "https://localhost:8080/"
        },
        "id": "UFt_fMM-GROW",
        "outputId": "82987f03-f5ef-4137-ced3-746d820f7fab"
      },
      "execution_count": 9,
      "outputs": [
        {
          "output_type": "stream",
          "name": "stdout",
          "text": [
            "Enter your Height in m : 1.68\n",
            "enter your weight in KG: 70\n",
            "24\n"
          ]
        }
      ]
    },
    {
      "cell_type": "code",
      "source": [
        "#round off the floating/decimal resutls numbers\n",
        "print (8/3)\n",
        "print (round(8/3))\n",
        "print (round(8/3,3))\n",
        "print (round(8/3,2))\n",
        "print (8//3)"
      ],
      "metadata": {
        "colab": {
          "base_uri": "https://localhost:8080/"
        },
        "id": "9bq_NATkHlXt",
        "outputId": "8a6ac514-bdd3-4070-d334-0f3a624c908d"
      },
      "execution_count": 11,
      "outputs": [
        {
          "output_type": "stream",
          "name": "stdout",
          "text": [
            "2.6666666666666665\n",
            "3\n",
            "2.667\n",
            "2.67\n",
            "2\n"
          ]
        }
      ]
    },
    {
      "cell_type": "code",
      "source": [
        "#using f-string method to convert all data types directly\n",
        "score = 0\n",
        "height = 1.85\n",
        "isWin = True\n",
        "#f-string\n",
        "print (f\"your score is {score}, your height is {height}, winning change is {isWin}\")\n"
      ],
      "metadata": {
        "colab": {
          "base_uri": "https://localhost:8080/"
        },
        "id": "6qPAbuQmBgsd",
        "outputId": "ca14bf2d-961f-4919-94a0-944b1b04d98b"
      },
      "execution_count": 12,
      "outputs": [
        {
          "output_type": "stream",
          "name": "stdout",
          "text": [
            "your score is 0, your height is 1.85, winning change is True\n"
          ]
        }
      ]
    },
    {
      "cell_type": "code",
      "source": [
        "#Challenge: of Day 2\n",
        "print (\"Welcome to check how little time we actually have\")\n",
        "age = input (\"what is your current Age? \")\n",
        "month = ((12*90)- int(age)*12)\n",
        "week = ((52*90) - int(age)* 52)\n",
        "days = ((365*90) -int(age)*365)\n",
        "print (f\"You have {days} days, {week} weeks, {month} months left.\")"
      ],
      "metadata": {
        "colab": {
          "base_uri": "https://localhost:8080/"
        },
        "id": "XOdXU45YDeql",
        "outputId": "46c2d75a-1263-4409-97b9-d86f6f32414c"
      },
      "execution_count": 18,
      "outputs": [
        {
          "output_type": "stream",
          "name": "stdout",
          "text": [
            "Welcome to check how little time we actually have\n",
            "what is your current Age? 26\n",
            "You have 23360 days, 3328 weeks, 768 months left.\n"
          ]
        }
      ]
    },
    {
      "cell_type": "code",
      "source": [
        "from io import TextIOWrapper\n",
        "#final project: Tip calculator\n",
        "print (\"welcome to the Tip Calculator.\")\n",
        "bill =float (input (\"what was the total bill? $\"))\n",
        "ptg = int (input (\"what perctange tip would you like to give? 10, 12, or 15? \"))\n",
        "psn = int (input (\"how many people to split the bill? \"))\n",
        "new_bill = bill * ptg/100\n",
        "lb=  bill +  new_bill\n",
        "tip = lb /  psn\n",
        "#tip = round(tip,3)\n",
        "tip =\"{:.2f}\".format(tip)\n",
        "print (f\"Each Person should pay: ${tip}\")"
      ],
      "metadata": {
        "colab": {
          "base_uri": "https://localhost:8080/"
        },
        "id": "KZTajcSRGCrk",
        "outputId": "78c0b4af-ca90-4b15-81ad-36c7a0c55a20"
      },
      "execution_count": 40,
      "outputs": [
        {
          "output_type": "stream",
          "name": "stdout",
          "text": [
            "welcome to the Tip Calculator.\n",
            "what was the total bill? $150\n",
            "what perctange tip would you like to give? 10, 12, or 15? 12\n",
            "how many people to split the bill? 5\n",
            "Each Person should pay: $33.60\n"
          ]
        }
      ]
    },
    {
      "cell_type": "code",
      "source": [
        ""
      ],
      "metadata": {
        "id": "wFrd4yPWSsZL"
      },
      "execution_count": null,
      "outputs": []
    }
  ]
}