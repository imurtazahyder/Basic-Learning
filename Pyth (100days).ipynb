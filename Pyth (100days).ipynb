{
 "cells": [
  {
   "cell_type": "code",
   "execution_count": 21,
   "id": "20fd2b6f-35f8-45b6-93e4-6633c2c80131",
   "metadata": {},
   "outputs": [],
   "source": [
    "#- Day 1 - (Python Input Function)"
   ]
  },
  {
   "cell_type": "code",
   "execution_count": 15,
   "id": "38eff81d-1ac4-4890-8154-568974748eff",
   "metadata": {},
   "outputs": [
    {
     "name": "stdin",
     "output_type": "stream",
     "text": [
      "what is your name? murtaza\n"
     ]
    },
    {
     "data": {
      "text/plain": [
       "'murtaza'"
      ]
     },
     "execution_count": 15,
     "metadata": {},
     "output_type": "execute_result"
    }
   ],
   "source": [
    "input (\"what is your name?\")"
   ]
  },
  {
   "cell_type": "code",
   "execution_count": 19,
   "id": "dabc7380-5500-4fe1-8afa-7981abf2178a",
   "metadata": {},
   "outputs": [
    {
     "name": "stdin",
     "output_type": "stream",
     "text": [
      "what is your name? Murtaza\n"
     ]
    },
    {
     "name": "stdout",
     "output_type": "stream",
     "text": [
      "Hi Murtaza\n"
     ]
    }
   ],
   "source": [
    "print (\"Hi \" + input (\"what is your name?\"))"
   ]
  },
  {
   "cell_type": "code",
   "execution_count": null,
   "id": "079c3786-879a-474a-8968-6f0513b70701",
   "metadata": {},
   "outputs": [],
   "source": []
  }
 ],
 "metadata": {
  "kernelspec": {
   "display_name": "Python 3 (ipykernel)",
   "language": "python",
   "name": "python3"
  },
  "language_info": {
   "codemirror_mode": {
    "name": "ipython",
    "version": 3
   },
   "file_extension": ".py",
   "mimetype": "text/x-python",
   "name": "python",
   "nbconvert_exporter": "python",
   "pygments_lexer": "ipython3",
   "version": "3.12.4"
  }
 },
 "nbformat": 4,
 "nbformat_minor": 5
}
