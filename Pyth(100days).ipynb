{
  "nbformat": 4,
  "nbformat_minor": 0,
  "metadata": {
    "colab": {
      "provenance": [],
      "authorship_tag": "ABX9TyMPOmc8p+pzy1k07AaKw8ZS",
      "include_colab_link": true
    },
    "kernelspec": {
      "name": "python3",
      "display_name": "Python 3"
    },
    "language_info": {
      "name": "python"
    }
  },
  "cells": [
    {
      "cell_type": "markdown",
      "metadata": {
        "id": "view-in-github",
        "colab_type": "text"
      },
      "source": [
        "<a href=\"https://colab.research.google.com/github/imurtazahyder/Basic-Learning/blob/main/Pyth(100days).ipynb\" target=\"_parent\"><img src=\"https://colab.research.google.com/assets/colab-badge.svg\" alt=\"Open In Colab\"/></a>"
      ]
    },
    {
      "cell_type": "code",
      "execution_count": 1,
      "metadata": {
        "colab": {
          "base_uri": "https://localhost:8080/"
        },
        "id": "_GM7IdbuDfKX",
        "outputId": "ca5b1d4b-fd84-471c-b7be-1b114ff29b11"
      },
      "outputs": [
        {
          "output_type": "stream",
          "name": "stdout",
          "text": [
            "welcome to Brand Name Generator\n",
            "What is your city name?\n",
            "karachi\n",
            "what is your pet name?\n",
            "meta\n",
            "you brand name is karachi meta\n"
          ]
        }
      ],
      "source": [
        "#project 1: Brand Name Generator\n",
        "print(\"welcome to Brand Name Generator\")\n",
        "city = input(\"What is your city name?\\n\")\n",
        "pet = input(\"what is your pet name?\\n\")\n",
        "print (\"you brand name is \" + city + \" \"+ pet)"
      ]
    },
    {
      "cell_type": "code",
      "source": [],
      "metadata": {
        "id": "KQ6IyqOShuuY"
      },
      "execution_count": null,
      "outputs": []
    }
  ]
}